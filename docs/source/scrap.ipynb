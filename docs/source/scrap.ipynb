{
 "cells": [
  {
   "cell_type": "markdown",
   "id": "d20df374",
   "metadata": {
    "editable": true,
    "slideshow": {
     "slide_type": ""
    },
    "tags": []
   },
   "source": [
    "# Duration of Coupon Bonds\n",
    "\n",
    "We generalize ZCB duration to bonds that pay coupons. With continuously compounded spot rates and a parallel yield shift, the first-order price change can still be summarized by a single number: duration."
   ]
  },
  {
   "cell_type": "markdown",
   "id": "a28138fa",
   "metadata": {
    "editable": true,
    "slideshow": {
     "slide_type": ""
    },
    "tags": []
   },
   "source": [
    "## Price and Cash Flows\n",
    "- Price with notional `N` and level coupons `c` at times `T_j` with spot rates `R_j`:\n",
    "$$\n",
    "B = N e^{-T_N R_N} + \\sum_{j=1}^{N_c} c\\, e^{-T_j R_j}, \\quad R_j = R(0,T_j)\n",
    "$$\n",
    "- Under a small parallel shift of the curve $\\Delta$ (i.e., $R_j \\to R_j + \\Delta$ for all $j$),\n",
    "$$\n",
    "B(\\Delta) = N e^{-T_N (R_N+\\Delta)} + \\sum_{j=1}^{N_c} c\\, e^{-T_j (R_j+\\Delta)}\n",
    "$$"
   ]
  },
  {
   "cell_type": "markdown",
   "id": "46da0765",
   "metadata": {},
   "source": [
    "## First-Order Sensitivity (Duration)\n",
    "Treat $B(\\Delta)$ as a function of the parallel shift $\\Delta$ and differentiate at $\\Delta=0$:\n",
    "$$\n",
    "\\frac{\\partial B}{\\partial \\Delta}\\Big|_{\\Delta=0} = -\\sum_{j=1}^{N_c} T_j c\\, e^{-T_j R_j} - T_N N e^{-T_N R_N} = -\\sum_{k} T_k \\cdot CF_k\\, e^{-T_k R_k}\n",
    "$$\n",
    "- Price at $\\Delta=0$: $B(0) = \\sum_k CF_k\\, e^{-T_k R_k}$\n",
    "- Define (Macaulay) duration under continuous compounding:\n",
    "$$\n",
    "D = \\frac{\\sum_k T_k\\, CF_k\\, e^{-T_k R_k}}{\\sum_k CF_k\\, e^{-T_k R_k}} = \\frac{\\sum_k T_k PV(CF_k)}{B}\n",
    "$$\n",
    "- First-order approximation (parallel move):\n",
    "$$\n",
    "\\frac{B(\\Delta) - B(0)}{B(0)} \\approx - D\\, \\Delta\n",
    "$$\n",
    "- For a ZCB, $D=T$ (matches your earlier result)."
   ]
  },
  {
   "cell_type": "markdown",
   "id": "088f2d37",
   "metadata": {},
   "source": [
    "## Intuition and Comparisons\n",
    "- Coupon bonds have $D < T_N$ because some cash flows arrive earlier and get more weight in the PV sum.\n",
    "- Higher coupon → lower duration (more weight on earlier coupons).\n",
    "- Longer maturity → higher duration, but bounded below the final maturity.\n",
    "- At the same yield, a 10Y 5% coupon bond has lower duration than a 10Y ZCB."
   ]
  },
  {
   "cell_type": "code",
   "execution_count": null,
   "id": "ff4a3b39",
   "metadata": {},
   "outputs": [],
   "source": [
    "# Example: Duration of a coupon bond via PV weights\n",
    "import math\n",
    "\n",
    "# Parameters (continuous compounding)\n",
    "N = 100.0\n",
    "c_rate = 0.05  # 5% annual coupon, paid annually for simplicity\n",
    "maturity = 10  # years\n",
    "# flat spot curve for simplicity\n",
    "R = 0.04       # 4% per annum\n",
    "\n",
    "# cashflow times (annual) and amounts\n",
    "T = [t for t in range(1, maturity+1)]\n",
    "CF = [N*c_rate for _ in T]\n",
    "CF[-1] += N  # add principal at final time\n",
    "\n",
    "# present values and price\n",
    "PV = [cf * math.exp(-t*R) for cf, t in zip(CF, T)]\n",
    "B = sum(PV)\n",
    "\n",
    "# Macaulay duration (continuous compounding)\n",
    "D = sum(t*pv for t, pv in zip(T, PV)) / B\n",
    "\n",
    "# First-order price change for a small parallel shift Δ\n",
    "delta = 0.001  # 10 bps\n",
    "pct_change_approx = -D * delta\n",
    "\n",
    "B_shift = sum(cf * math.exp(-t*(R+delta)) for cf, t in zip(CF, T))\n",
    "pct_change_actual = (B_shift - B) / B\n",
    "\n",
    "print(f\"Price: {B:.2f}\")\n",
    "print(f\"Macaulay Duration D: {D:.4f} years\")\n",
    "print(f\"Approx %ΔB: {pct_change_approx*100:.3f}% | Actual %ΔB: {pct_change_actual*100:.3f}%\")"
   ]
  },
  {
   "cell_type": "markdown",
   "id": "7c6cfe6f",
   "metadata": {},
   "source": [
    "## Slide Notes / Talking Points\n",
    "- Duration summarizes first-order price sensitivity to a parallel curve move.\n",
    "- Coupon bond duration is the PV-weighted average time of cash flows.\n",
    "- Higher coupons pull duration lower relative to maturity.\n",
    "- Use duration to compare interest-rate risk across bonds and to construct hedges.\n",
    "\n",
    "Next: convexity refines this approximation for larger moves."
   ]
  }
 ],
 "metadata": {
  "kernelspec": {
   "display_name": "Python 3 (ipykernel)",
   "language": "python",
   "name": "python3"
  },
  "language_info": {
   "codemirror_mode": {
    "name": "ipython",
    "version": 3
   },
   "file_extension": ".py",
   "mimetype": "text/x-python",
   "name": "python",
   "nbconvert_exporter": "python",
   "pygments_lexer": "ipython3",
   "version": "3.12.4"
  }
 },
 "nbformat": 4,
 "nbformat_minor": 5
}

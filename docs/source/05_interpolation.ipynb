{
 "cells": [
  {
   "cell_type": "markdown",
   "id": "7f182c9a-f0de-486a-ad39-dfdeebf96867",
   "metadata": {
    "editable": true,
    "slideshow": {
     "slide_type": "slide"
    },
    "tags": []
   },
   "source": [
    "# 5. Curve Interpolation"
   ]
  },
  {
   "cell_type": "code",
   "execution_count": 3,
   "id": "778f1697-4407-459b-ad2c-39d5f8521b2f",
   "metadata": {
    "editable": true,
    "slideshow": {
     "slide_type": ""
    },
    "tags": []
   },
   "outputs": [],
   "source": [
    "from fixedincome2025 import table"
   ]
  },
  {
   "cell_type": "markdown",
   "id": "0f177c94-84cc-484f-82ef-8a5a3fd83052",
   "metadata": {
    "editable": true,
    "slideshow": {
     "slide_type": "slide"
    },
    "tags": []
   },
   "source": [
    "## What To Do With Missing Points? \n",
    "\n",
    "* When you compute the present value (PV) of your bond portfolio in practice, there will be missing points on the yield curve\n",
    "* Treasury yield curve from [treasury.gov](https://home.treasury.gov/resource-center/data-chart-center/interest-rates/TextView?type=daily_treasury_yield_curve&field_tdr_date_value=2025): "
   ]
  },
  {
   "cell_type": "code",
   "execution_count": 19,
   "id": "851f5302-41d5-42bc-9543-9e2a3842425c",
   "metadata": {
    "editable": true,
    "slideshow": {
     "slide_type": ""
    },
    "tags": []
   },
   "outputs": [
    {
     "data": {
      "text/html": [
       "\n",
       "    <div style=\"display: flex; justify-content: center;\">\n",
       "        <table border=\"1\" class=\"dataframe\">\n",
       "  <thead>\n",
       "    <tr style=\"text-align: right;\">\n",
       "      <th>Date</th>\n",
       "      <th>1 Mo</th>\n",
       "      <th>1.5 Mo</th>\n",
       "      <th>2 Mo</th>\n",
       "      <th>3 Mo</th>\n",
       "      <th>4 Mo</th>\n",
       "      <th>6 Mo</th>\n",
       "      <th>1 Yr</th>\n",
       "      <th>2 Yr</th>\n",
       "      <th>3 Yr</th>\n",
       "    </tr>\n",
       "  </thead>\n",
       "  <tbody>\n",
       "    <tr>\n",
       "      <td>09/15/2025</td>\n",
       "      <td>4.22%</td>\n",
       "      <td>4.21%</td>\n",
       "      <td>4.17%</td>\n",
       "      <td>4.06%</td>\n",
       "      <td>4.00%</td>\n",
       "      <td>3.81%</td>\n",
       "      <td>3.64%</td>\n",
       "      <td>3.54%</td>\n",
       "      <td>3.50%</td>\n",
       "    </tr>\n",
       "  </tbody>\n",
       "</table>\n",
       "    </div>\n",
       "    "
      ],
      "text/plain": [
       "<IPython.core.display.HTML object>"
      ]
     },
     "execution_count": 19,
     "metadata": {},
     "output_type": "execute_result"
    }
   ],
   "source": [
    "table('yc_09152025')"
   ]
  },
  {
   "cell_type": "markdown",
   "id": "99703027-11cd-4667-a75b-3dc8a15772b4",
   "metadata": {
    "editable": true,
    "slideshow": {
     "slide_type": ""
    },
    "tags": []
   },
   "source": [
    "* Imagine you have a Treasury bond that's 11M from its maturity, and the second-to-last coupon payment is 5M from now\n",
    "* You need 5M point and 11M point to price the bond\n",
    "* One also needs to take DCC into consideration when computing the year fractions ($T$ in the discount factor $e^{-TR(0, T)}$)"
   ]
  },
  {
   "cell_type": "markdown",
   "id": "486939c1-b0ea-443e-ae3c-5e3f3fb476cb",
   "metadata": {
    "editable": true,
    "slideshow": {
     "slide_type": "slide"
    },
    "tags": []
   },
   "source": [
    "## A World of Curves\n",
    "\n",
    "* Although we've been using the Treasury yield curve as our only example, in practice there are many other curves\n",
    "    * Important ones are SOFR, Term SOFR, fed funds, LIBOR\n",
    "    * SOFR is by far the most important one if you work in the rates business in a bank, more important than the Treasury yield curve\n",
    "    * In the rates business, many curves are simply a spread curve plus the SOFR curve, spread from basis swap quotes\n",
    "    * In a credit desk (trading credit projects including corporate bonds), corporate bond yield curves are a spread curve (known as the z-spread) plus the Treasury yield curve\n",
    "* **Each curve has its own 6 representations**\n",
    "* Below is how a SOFR curve should be interpolated"
   ]
  },
  {
   "cell_type": "markdown",
   "id": "00dd194f-8ac2-4920-87a0-0c54ff2984c4",
   "metadata": {
    "editable": true,
    "slideshow": {
     "slide_type": "slide"
    },
    "tags": []
   },
   "source": [
    "## Curve Interpolation Methods\n",
    "\n",
    "* Curve interpolation is on the time-weighted zero rate $TR(0, T)$\n",
    "* The interpolation method is\n",
    "    * Linear interpolation in the short end\n",
    "    * Cubic spline for the rest\n",
    "* Cutoff is around 3Y, a decision more of an art than science"
   ]
  },
  {
   "cell_type": "markdown",
   "id": "8676ad39-3cbb-4ba6-8d94-dd977e1317a6",
   "metadata": {
    "editable": true,
    "slideshow": {
     "slide_type": "slide"
    },
    "tags": []
   },
   "source": [
    "## Why Linear Interpolation on Time-Weighted Zero Rate? \n",
    "\n",
    "* Recall that\n",
    "\\begin{align*}\n",
    "f(0, T) &= \\frac{\\partial }{\\partial T} [TR(0, T)]\n",
    "\\end{align*}\n",
    "* The reason people use linear interpolation on time-weighted zero rate in the short end is that we want its first derivative, the instantaneous forward curve ($f(0, T)$ for all $T$), to be a step function in the short end\n",
    "* Linear interpolating function: Piecewise linear\n",
    "* Step function: Piecewise constant\n",
    "* The first derivative of a linear interpolating function is a step function"
   ]
  },
  {
   "cell_type": "markdown",
   "id": "f530f58d-94a6-4335-a961-7b2d28fcfe81",
   "metadata": {
    "editable": true,
    "slideshow": {
     "slide_type": "slide"
    },
    "tags": []
   },
   "source": [
    "## Why Piecewise Constant Instantaneous Forward Curve? \n",
    "\n",
    "* Recall that\n",
    "$$\n",
    "L(0, T, T+\\tau) = \\frac{1}{\\tau}\\left(e^{\\int_T^{T+\\tau} f(0, u)\\,du} - 1\\right)\n",
    "$$\n",
    "* A variant of this formula is used to quote FRAs (and swaps)\n",
    "* Recall the CME Term SOFR example"
   ]
  },
  {
   "cell_type": "code",
   "execution_count": 12,
   "id": "eef915c8-180f-45da-9016-156665598df4",
   "metadata": {
    "editable": true,
    "slideshow": {
     "slide_type": ""
    },
    "tags": []
   },
   "outputs": [
    {
     "data": {
      "text/html": [
       "\n",
       "    <div style=\"display: flex; justify-content: center;\">\n",
       "        <table border=\"1\" class=\"dataframe\">\n",
       "  <thead>\n",
       "    <tr style=\"text-align: right;\">\n",
       "      <th></th>\n",
       "      <th>Term SOFR 1M</th>\n",
       "      <th>Term SOFR 3M</th>\n",
       "      <th>Term SOFR 6M</th>\n",
       "      <th>Term SOFR 12M</th>\n",
       "    </tr>\n",
       "  </thead>\n",
       "  <tbody>\n",
       "    <tr>\n",
       "      <td>09-17-2025</td>\n",
       "      <td>4.13359 %</td>\n",
       "      <td>4.02304 %</td>\n",
       "      <td>3.85385 %</td>\n",
       "      <td>3.59516 %</td>\n",
       "    </tr>\n",
       "    <tr>\n",
       "      <td>09-16-2025</td>\n",
       "      <td>4.13584 %</td>\n",
       "      <td>4.02570 %</td>\n",
       "      <td>3.85447 %</td>\n",
       "      <td>3.60384 %</td>\n",
       "    </tr>\n",
       "    <tr>\n",
       "      <td>09-15-2025</td>\n",
       "      <td>4.14288 %</td>\n",
       "      <td>4.02330 %</td>\n",
       "      <td>3.84833 %</td>\n",
       "      <td>3.60702 %</td>\n",
       "    </tr>\n",
       "  </tbody>\n",
       "</table>\n",
       "    </div>\n",
       "    "
      ],
      "text/plain": [
       "<IPython.core.display.HTML object>"
      ]
     },
     "execution_count": 12,
     "metadata": {},
     "output_type": "execute_result"
    }
   ],
   "source": [
    "table('term_sofr')"
   ]
  },
  {
   "cell_type": "markdown",
   "id": "04ae6917-2b08-4fd0-93c8-3eac6cdfd723",
   "metadata": {
    "editable": true,
    "slideshow": {
     "slide_type": ""
    },
    "tags": []
   },
   "source": [
    "* Think of $f(0, T) = L(0, T, T+\\epsilon)$ for $\\epsilon=$1d\n",
    "* $f(0, T)$ is the market anticipated time-$T$ (in the future) daily SOFR fixings, which should stay constant between fed rate decisions\n",
    "* The discontinuities are [FOMC meeting dates](https://www.federalreserve.gov/monetarypolicy/fomccalendars.htm)"
   ]
  },
  {
   "cell_type": "markdown",
   "id": "50d6dfe2-2acf-4469-a9cf-f5cbdab890b0",
   "metadata": {
    "editable": true,
    "slideshow": {
     "slide_type": "slide"
    },
    "tags": []
   },
   "source": [
    "## Linear Interpolation on Time-Weighted Zero Rate\n",
    "\n",
    "* In conclusion, it makes sense for the $TR(0, T)$ curve to be a linear function between FOMC meetings dates in the short end\n",
    "* The slope of $TR(0, T)$ at $T=T^*$ equals $f(0, T^*)$, which is the anticipated SOFR daily fixing level at $T^*$\n",
    "* FOMC meeting schedule is not determined for 3Y out, why not just make the curve continuous and smooth? "
   ]
  },
  {
   "cell_type": "markdown",
   "id": "c55942ff-9c44-41fa-bc43-0d785cc8f070",
   "metadata": {
    "editable": true,
    "slideshow": {
     "slide_type": "slide"
    },
    "tags": []
   },
   "source": [
    "## Short End Curve Interpolation: Example I\n",
    "\n",
    "* Assuming: \n",
    "    * Today's SOFR yield curve is as below\n",
    "    * From the 2M point to the 3M point there will be no FOMC meetings\n",
    "    * 30/360 DCC\n",
    "* What should the yield be at the 2.5M point?"
   ]
  },
  {
   "cell_type": "code",
   "execution_count": 27,
   "id": "edb74f6e-800e-4e32-a83e-6aa40a4cf6d5",
   "metadata": {
    "editable": true,
    "slideshow": {
     "slide_type": ""
    },
    "tags": []
   },
   "outputs": [
    {
     "data": {
      "text/html": [
       "\n",
       "    <div style=\"display: flex; justify-content: center;\">\n",
       "        <table border=\"1\" class=\"dataframe\">\n",
       "  <thead>\n",
       "    <tr style=\"text-align: right;\">\n",
       "      <th>1 Mo</th>\n",
       "      <th>1.5 Mo</th>\n",
       "      <th>2 Mo</th>\n",
       "      <th>3 Mo</th>\n",
       "      <th>4 Mo</th>\n",
       "      <th>6 Mo</th>\n",
       "      <th>1 Yr</th>\n",
       "      <th>2 Yr</th>\n",
       "      <th>3 Yr</th>\n",
       "    </tr>\n",
       "  </thead>\n",
       "  <tbody>\n",
       "    <tr>\n",
       "      <td>4.22%</td>\n",
       "      <td>4.21%</td>\n",
       "      <td>4.17%</td>\n",
       "      <td>4.06%</td>\n",
       "      <td>4.00%</td>\n",
       "      <td>3.81%</td>\n",
       "      <td>3.64%</td>\n",
       "      <td>3.54%</td>\n",
       "      <td>3.50%</td>\n",
       "    </tr>\n",
       "  </tbody>\n",
       "</table>\n",
       "    </div>\n",
       "    "
      ],
      "text/plain": [
       "<IPython.core.display.HTML object>"
      ]
     },
     "execution_count": 27,
     "metadata": {},
     "output_type": "execute_result"
    }
   ],
   "source": [
    "table('yc_sofr_example')"
   ]
  },
  {
   "cell_type": "markdown",
   "id": "c9935841-9260-474b-8721-18d1293dc749",
   "metadata": {
    "editable": true,
    "slideshow": {
     "slide_type": "fragment"
    },
    "tags": []
   },
   "source": [
    "* Between 2M and 3M, $TR(0, T)$ must be a linear function, so we have \n",
    "\\begin{align*}\n",
    "&\\left(\\frac{2}{12}\\times 4.17\\% + \\frac{3}{12}\\times 4.06\\%\\right)/2 = \\frac{2.5}{12} \\times R\\\\\n",
    "\\end{align*}\n",
    "and hence $R = 4.104\\%$"
   ]
  },
  {
   "cell_type": "markdown",
   "id": "93710991-e14a-4259-bf1c-06a003aedfd9",
   "metadata": {
    "editable": true,
    "slideshow": {
     "slide_type": "slide"
    },
    "tags": []
   },
   "source": [
    "## Short End Curve Interpolation: Exercise I\n",
    "\n",
    "* Assuming: \n",
    "    * Today's SOFR yield curve is as below\n",
    "    * From the 2M point to the 3M point there will be no FOMC meetings\n",
    "    * 30/360 DCC\n",
    "* What should the yield be at the 2.333M point?"
   ]
  },
  {
   "cell_type": "code",
   "execution_count": 28,
   "id": "18f6230c-6120-4279-988b-3c99533a399e",
   "metadata": {
    "editable": true,
    "slideshow": {
     "slide_type": ""
    },
    "tags": []
   },
   "outputs": [
    {
     "data": {
      "text/html": [
       "\n",
       "    <div style=\"display: flex; justify-content: center;\">\n",
       "        <table border=\"1\" class=\"dataframe\">\n",
       "  <thead>\n",
       "    <tr style=\"text-align: right;\">\n",
       "      <th>1 Mo</th>\n",
       "      <th>1.5 Mo</th>\n",
       "      <th>2 Mo</th>\n",
       "      <th>3 Mo</th>\n",
       "      <th>4 Mo</th>\n",
       "      <th>6 Mo</th>\n",
       "      <th>1 Yr</th>\n",
       "      <th>2 Yr</th>\n",
       "      <th>3 Yr</th>\n",
       "    </tr>\n",
       "  </thead>\n",
       "  <tbody>\n",
       "    <tr>\n",
       "      <td>4.20%</td>\n",
       "      <td>4.19%</td>\n",
       "      <td>4.15%</td>\n",
       "      <td>4.04%</td>\n",
       "      <td>4.00%</td>\n",
       "      <td>3.81%</td>\n",
       "      <td>3.62%</td>\n",
       "      <td>3.51%</td>\n",
       "      <td>3.47%</td>\n",
       "    </tr>\n",
       "  </tbody>\n",
       "</table>\n",
       "    </div>\n",
       "    "
      ],
      "text/plain": [
       "<IPython.core.display.HTML object>"
      ]
     },
     "execution_count": 28,
     "metadata": {},
     "output_type": "execute_result"
    }
   ],
   "source": [
    "table('yc_sofr_exercise')"
   ]
  },
  {
   "cell_type": "markdown",
   "id": "c5ac252b-00ec-41c9-af2d-a7ab18524de2",
   "metadata": {
    "editable": true,
    "slideshow": {
     "slide_type": "slide"
    },
    "tags": []
   },
   "source": [
    "## Short End Curve Interpolation: Example II\n",
    "\n",
    "* Assuming: \n",
    "    * Today's SOFR yield curve is as below\n",
    "    * From the 1.5M point to the 2M point there will be no FOMC meetings\n",
    "    * From the 3M point to the 3.5M point there will be no FOMC meetings\n",
    "    * There is an FOMC meeting at the 2.5M point where the consensus is that the Fed will cut its rate by 25 bps\n",
    "    * SOFR daily rates moves at the same time by the same amount as the Fed target rate\n",
    "    * 30/360 DCC\n",
    "* What should the yield be at the 3.333M point?"
   ]
  },
  {
   "cell_type": "code",
   "execution_count": 27,
   "id": "16e9375f-8111-4752-bf04-039e1fb44bfc",
   "metadata": {
    "editable": true,
    "slideshow": {
     "slide_type": ""
    },
    "tags": []
   },
   "outputs": [
    {
     "data": {
      "text/html": [
       "\n",
       "    <div style=\"display: flex; justify-content: center;\">\n",
       "        <table border=\"1\" class=\"dataframe\">\n",
       "  <thead>\n",
       "    <tr style=\"text-align: right;\">\n",
       "      <th>1 Mo</th>\n",
       "      <th>1.5 Mo</th>\n",
       "      <th>2 Mo</th>\n",
       "      <th>3 Mo</th>\n",
       "      <th>4 Mo</th>\n",
       "      <th>6 Mo</th>\n",
       "      <th>1 Yr</th>\n",
       "      <th>2 Yr</th>\n",
       "      <th>3 Yr</th>\n",
       "    </tr>\n",
       "  </thead>\n",
       "  <tbody>\n",
       "    <tr>\n",
       "      <td>4.22%</td>\n",
       "      <td>4.21%</td>\n",
       "      <td>4.17%</td>\n",
       "      <td>4.06%</td>\n",
       "      <td>4.00%</td>\n",
       "      <td>3.81%</td>\n",
       "      <td>3.64%</td>\n",
       "      <td>3.54%</td>\n",
       "      <td>3.50%</td>\n",
       "    </tr>\n",
       "  </tbody>\n",
       "</table>\n",
       "    </div>\n",
       "    "
      ],
      "text/plain": [
       "<IPython.core.display.HTML object>"
      ]
     },
     "execution_count": 27,
     "metadata": {},
     "output_type": "execute_result"
    }
   ],
   "source": [
    "table('yc_sofr_example')"
   ]
  },
  {
   "cell_type": "markdown",
   "id": "eae191c9-9a80-42b8-9eda-a39766ecdaf8",
   "metadata": {
    "editable": true,
    "slideshow": {
     "slide_type": "slide"
    },
    "tags": []
   },
   "source": [
    "## Short End Curve Interpolation: Example II (Cont.)"
   ]
  },
  {
   "cell_type": "code",
   "execution_count": 27,
   "id": "0260f699-cd2d-402e-94bd-8462c1c40508",
   "metadata": {
    "editable": true,
    "slideshow": {
     "slide_type": ""
    },
    "tags": []
   },
   "outputs": [
    {
     "data": {
      "text/html": [
       "\n",
       "    <div style=\"display: flex; justify-content: center;\">\n",
       "        <table border=\"1\" class=\"dataframe\">\n",
       "  <thead>\n",
       "    <tr style=\"text-align: right;\">\n",
       "      <th>1 Mo</th>\n",
       "      <th>1.5 Mo</th>\n",
       "      <th>2 Mo</th>\n",
       "      <th>3 Mo</th>\n",
       "      <th>4 Mo</th>\n",
       "      <th>6 Mo</th>\n",
       "      <th>1 Yr</th>\n",
       "      <th>2 Yr</th>\n",
       "      <th>3 Yr</th>\n",
       "    </tr>\n",
       "  </thead>\n",
       "  <tbody>\n",
       "    <tr>\n",
       "      <td>4.22%</td>\n",
       "      <td>4.21%</td>\n",
       "      <td>4.17%</td>\n",
       "      <td>4.06%</td>\n",
       "      <td>4.00%</td>\n",
       "      <td>3.81%</td>\n",
       "      <td>3.64%</td>\n",
       "      <td>3.54%</td>\n",
       "      <td>3.50%</td>\n",
       "    </tr>\n",
       "  </tbody>\n",
       "</table>\n",
       "    </div>\n",
       "    "
      ],
      "text/plain": [
       "<IPython.core.display.HTML object>"
      ]
     },
     "execution_count": 27,
     "metadata": {},
     "output_type": "execute_result"
    }
   ],
   "source": [
    "table('yc_sofr_example')"
   ]
  },
  {
   "cell_type": "markdown",
   "id": "6f6c9043-4eaa-4b3a-807c-ee3b6c1fe895",
   "metadata": {
    "editable": true,
    "slideshow": {
     "slide_type": ""
    },
    "tags": []
   },
   "source": [
    "* Recall that the slope of $TR(0, T)$ in the interval [1.5M, 2M] is $f(0, T)$, the anticipated SOFR daily fixing level in that interval. Numerically, it's\n",
    "\\begin{align*}\n",
    "\\frac{2\\times 4.17\\% - 1.5\\times 4.21\\%}{0.5} = 4.05\\%\n",
    "\\end{align*}"
   ]
  },
  {
   "cell_type": "markdown",
   "id": "3d56067c-cb6c-476f-af37-7391dd8f1013",
   "metadata": {
    "editable": true,
    "slideshow": {
     "slide_type": "fragment"
    },
    "tags": []
   },
   "source": [
    "* Similarly, the slope of $TR(0, T)$ in the interval [3M, 3.5M] is the anticipated SOFR daily fixings in that interval, which is $4.05\\% - 0.25\\% = 3.8\\%$"
   ]
  },
  {
   "cell_type": "markdown",
   "id": "f4f39aca-11a4-4ef9-9734-e468257ccb5a",
   "metadata": {
    "editable": true,
    "slideshow": {
     "slide_type": "fragment"
    },
    "tags": []
   },
   "source": [
    "* The slope can also be written in terms of yield at the 3M point and the 3.3333M point as\n",
    "\\begin{align*}\n",
    "\\frac{3.3333\\times R - 3\\times 4.06}{0.3333}, \n",
    "\\end{align*}\n",
    "which we know should be $3.8\\%$. Thus $R$ can be backed out to be $4.034\\%$"
   ]
  }
 ],
 "metadata": {
  "kernelspec": {
   "display_name": "Python 3 (ipykernel)",
   "language": "python",
   "name": "python3"
  },
  "language_info": {
   "codemirror_mode": {
    "name": "ipython",
    "version": 3
   },
   "file_extension": ".py",
   "mimetype": "text/x-python",
   "name": "python",
   "nbconvert_exporter": "python",
   "pygments_lexer": "ipython3",
   "version": "3.12.4"
  }
 },
 "nbformat": 4,
 "nbformat_minor": 5
}

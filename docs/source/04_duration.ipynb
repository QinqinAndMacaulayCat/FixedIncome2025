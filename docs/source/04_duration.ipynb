{
 "cells": [
  {
   "cell_type": "markdown",
   "id": "cffd957e-9dfb-483f-bda4-4341272916ff",
   "metadata": {
    "editable": true,
    "slideshow": {
     "slide_type": "slide"
    },
    "tags": []
   },
   "source": [
    "# 4. Duration and Convexity"
   ]
  },
  {
   "cell_type": "markdown",
   "id": "ccbd6c0d-6bfe-4e28-a3ef-6233ba2a82ae",
   "metadata": {
    "editable": true,
    "slideshow": {
     "slide_type": "slide"
    },
    "tags": []
   },
   "source": [
    "## Overview \n",
    "\n",
    "* Duration is an important concept that helps us to compute, quickly and approximately, how much the price of a bond should change in response to the yield change\n",
    "    * Expressed in years, but it’s not the same as time to maturity\n",
    "    * A sensitivity measure\n",
    "        * High duration: bond price sensitive to interest rate changes\n",
    "        * Low duration: insensitive, bond price stable\n",
    "* Duration also summarizes a portfolio of bonds to one number, making it easy to hedge"
   ]
  },
  {
   "cell_type": "markdown",
   "id": "8dfd6e8d-b948-4c32-85b8-9d17eedaa7f8",
   "metadata": {
    "editable": true,
    "slideshow": {
     "slide_type": "slide"
    },
    "tags": []
   },
   "source": [
    "## Bond Pricing Review\n",
    "\n",
    "* (Time $t=0$ price of) zero coupon bond: $P(0, T) = e^{-T\\times R(0, T)}$\n",
    "* Write in a simplified notation: \n",
    "$$\n",
    "B = e^{-TR}\n",
    "$$\n",
    "* Zero coupon bond with notional $N$: \n",
    "$$\n",
    "B = N e^{-TR}\n",
    "$$\n",
    "* Non-zero coupon bond that pays a fixed coupon $c$ at times $\\{T_1, T_2, \\ldots, T_N\\}$ and notional $N$ at maturity $T_N$:\n",
    "$$\n",
    "B = N e^{-T_NR_N} + \\sum_{j=1}^N c~e^{-T_j R_j}, \n",
    "$$\n",
    "where $R_j = R(0, T_j)$\n",
    "* Despite the seemingly involved notations, it's simply sum of discounted future cash flows"
   ]
  },
  {
   "cell_type": "markdown",
   "id": "4c49c483-ae08-4b59-94c8-ebe60adaa67c",
   "metadata": {
    "editable": true,
    "slideshow": {
     "slide_type": "slide"
    },
    "tags": []
   },
   "source": [
    "## Bond Pricing Review (Cont.)\n",
    "\n",
    "\\begin{align*}\n",
    "B &= N e^{-T_NR_N} + \\sum_{j=1}^N c e^{-T_j R_j}, \\\\\n",
    "&= c~e^{-T_1 R_1} + c~e^{-T_1 R_1} + \\cdots + c~e^{-T_N R_N} + N e^{-T_NR_N}\n",
    "\\end{align*}\n",
    "* Example from previous set's Bond Pricing: Exercise I: \n",
    "$$\n",
    "2.5 e^{-0.5\\times 0.0385} + 2.5 e^{-1\\times 0.0365} + 2.5 e^{-1.5\\times 0.0358} + 102.5 e^{-2\\times 0.0351} = \\$102.78\n",
    "$$\n",
    "* Here we have notional $N = 100$ and\n",
    "    * $c = 2.5$,\n",
    "    * $T_1 = 0.5$, $R_1 = 3.85\\%$,\n",
    "    * $T_2 = 1.0$, $R_2 = 3.65\\%$,\n",
    "    * $T_3 = 1.5$, $R_3 = 3.58\\%$\n",
    "    * $B = 102.78$"
   ]
  },
  {
   "cell_type": "markdown",
   "id": "69dd8a76-2044-4d70-a279-8413e970295a",
   "metadata": {
    "editable": true,
    "slideshow": {
     "slide_type": "slide"
    },
    "tags": []
   },
   "source": [
    "## Sensitivity of ZCB Price to Its Yield Change\n",
    "\n",
    "* Imagine, in a small period of time, the yield changes from $R$ to $R+\\Delta$ for some small $\\Delta$. The ZCB price before and after the yield change are respectively \n",
    "$$\n",
    "B(0) = e^{-TR} \\quad\\text{and}\\quad B(\\Delta) = e^{-T(R+\\Delta)}\n",
    "$$"
   ]
  },
  {
   "cell_type": "markdown",
   "id": "3ca56dbb-b59e-42f1-a02b-51764bf1df87",
   "metadata": {
    "editable": true,
    "slideshow": {
     "slide_type": "fragment"
    },
    "tags": []
   },
   "source": [
    "* We are treating the ZCB price $B$ as a function of the yield change $\\Delta$. Now find its first derivative at $\\Delta = 0$:\n",
    "\\begin{align*}\n",
    "&B'(0) = -Te^{-TR} \\approx \\frac{e^{-T(R+\\Delta)} - e^{-TR}}{\\Delta}, \\\\\n",
    "\\iff& -TB(0) \\approx \\frac{B(\\Delta) - B(0)}{\\Delta}, \\\\\n",
    "\\iff& -T\\Delta \\approx \\frac{B(\\Delta) - B(0)}{B(0)}\n",
    "\\end{align*}"
   ]
  },
  {
   "cell_type": "markdown",
   "id": "c84ec35d-19e8-4e0a-8257-063fe435dcf5",
   "metadata": {
    "editable": true,
    "slideshow": {
     "slide_type": "fragment"
    },
    "tags": []
   },
   "source": [
    "* The right hand side is the percent change of the ZCB price, while the left hand side is the term times yield change in the opposite direction"
   ]
  }
 ],
 "metadata": {
  "kernelspec": {
   "display_name": "Python 3 (ipykernel)",
   "language": "python",
   "name": "python3"
  },
  "language_info": {
   "codemirror_mode": {
    "name": "ipython",
    "version": 3
   },
   "file_extension": ".py",
   "mimetype": "text/x-python",
   "name": "python",
   "nbconvert_exporter": "python",
   "pygments_lexer": "ipython3",
   "version": "3.12.4"
  }
 },
 "nbformat": 4,
 "nbformat_minor": 5
}

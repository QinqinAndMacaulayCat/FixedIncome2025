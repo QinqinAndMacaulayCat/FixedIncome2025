{
 "cells": [
  {
   "cell_type": "markdown",
   "id": "cffd957e-9dfb-483f-bda4-4341272916ff",
   "metadata": {
    "editable": true,
    "slideshow": {
     "slide_type": "slide"
    },
    "tags": []
   },
   "source": [
    "# 4. Duration and Convexity"
   ]
  },
  {
   "cell_type": "code",
   "execution_count": 10,
   "id": "6ed2b98a-71dc-4a39-bd81-2ea2a9ce1bca",
   "metadata": {
    "editable": true,
    "slideshow": {
     "slide_type": ""
    },
    "tags": []
   },
   "outputs": [],
   "source": [
    "from fixedincome2025 import table"
   ]
  },
  {
   "cell_type": "markdown",
   "id": "ccbd6c0d-6bfe-4e28-a3ef-6233ba2a82ae",
   "metadata": {
    "editable": true,
    "slideshow": {
     "slide_type": "slide"
    },
    "tags": []
   },
   "source": [
    "## Overview \n",
    "\n",
    "* Duration is an important concept that helps us to compute, quickly and approximately, how much the price of a bond should change in response to the yield change\n",
    "    * Expressed in years, but it’s not the same as time to maturity\n",
    "    * A sensitivity measure\n",
    "        * High duration: bond price sensitive to interest rate changes\n",
    "        * Low duration: insensitive, bond price stable\n",
    "* Duration also summarizes a portfolio of bonds to one number, making it easy to hedge"
   ]
  },
  {
   "cell_type": "markdown",
   "id": "8dfd6e8d-b948-4c32-85b8-9d17eedaa7f8",
   "metadata": {
    "editable": true,
    "slideshow": {
     "slide_type": "slide"
    },
    "tags": []
   },
   "source": [
    "## Bond Pricing Review\n",
    "\n",
    "* (Time $t=0$ price of) zero coupon bond: $P(0, T) = e^{-T\\times R(0, T)}$\n",
    "* Write in a simplified notation: \n",
    "$$\n",
    "B = e^{-TR}\n",
    "$$\n",
    "* Zero coupon bond with notional $N$: \n",
    "$$\n",
    "B = N e^{-TR}\n",
    "$$\n",
    "* Non-zero coupon bond that pays a fixed coupon $c$ at times $\\{T_1, T_2, \\ldots, T_N\\}$ and notional $N$ at maturity $T_N$:\n",
    "$$\n",
    "B = N e^{-T_NR_N} + \\sum_{j=1}^N c~e^{-T_j R_j}, \n",
    "$$\n",
    "where $R_j = R(0, T_j)$\n",
    "* Despite the seemingly involved notations, it's simply sum of discounted future cash flows"
   ]
  },
  {
   "cell_type": "markdown",
   "id": "4c49c483-ae08-4b59-94c8-ebe60adaa67c",
   "metadata": {
    "editable": true,
    "slideshow": {
     "slide_type": "slide"
    },
    "tags": []
   },
   "source": [
    "## Bond Pricing Review (Cont.)\n",
    "\n",
    "\\begin{align*}\n",
    "B &= N e^{-T_NR_N} + \\sum_{j=1}^N c~e^{-T_j R_j} \\\\\n",
    "&= c~e^{-T_1 R_1} + c~e^{-T_2 R_2} + \\cdots + c~e^{-T_N R_N} + N e^{-T_NR_N}\n",
    "\\end{align*}\n",
    "* Example from previous set's Bond Pricing: Exercise I: \n",
    "$$\n",
    "2.5 e^{-0.5\\times 0.0385} + 2.5 e^{-1\\times 0.0365} + 2.5 e^{-1.5\\times 0.0358} + 102.5 e^{-2\\times 0.0351} = \\$102.78\n",
    "$$\n",
    "* Here we have notional $N = 100$ and\n",
    "    * $c = 2.5$,\n",
    "    * $T_1 = 0.5$, $R_1 = 3.85\\%$,\n",
    "    * $T_2 = 1.0$, $R_2 = 3.65\\%$,\n",
    "    * $T_3 = 1.5$, $R_3 = 3.58\\%$\n",
    "    * $B = 102.78$"
   ]
  },
  {
   "cell_type": "markdown",
   "id": "69dd8a76-2044-4d70-a279-8413e970295a",
   "metadata": {
    "editable": true,
    "slideshow": {
     "slide_type": "slide"
    },
    "tags": []
   },
   "source": [
    "## Sensitivity of ZCB Price to Its Yield Change\n",
    "\n",
    "* Imagine, in a small period of time, the yield changes from $R$ to $R+\\Delta$ for some small $\\Delta$. The ZCB price before and after the yield change are respectively \n",
    "$$\n",
    "B(0) = e^{-TR} \\quad\\text{and}\\quad B(\\Delta) = e^{-T(R+\\Delta)}\n",
    "$$"
   ]
  },
  {
   "cell_type": "markdown",
   "id": "3ca56dbb-b59e-42f1-a02b-51764bf1df87",
   "metadata": {
    "editable": true,
    "slideshow": {
     "slide_type": "fragment"
    },
    "tags": []
   },
   "source": [
    "* We are treating $B$ as a function of the yield change $\\Delta$. Now find its first derivative at $\\Delta = 0$:\n",
    "\\begin{align*}\n",
    "&B'(0) = -Te^{-TR} \\approx \\frac{B(\\Delta) - B(0)}{\\Delta} \\\\\n",
    "\\iff& -TB(0) \\approx \\frac{B(\\Delta) - B(0)}{\\Delta} \\\\\n",
    "\\iff& -T\\Delta \\approx \\frac{B(\\Delta) - B(0)}{B(0)}\n",
    "\\end{align*}"
   ]
  },
  {
   "cell_type": "markdown",
   "id": "c84ec35d-19e8-4e0a-8257-063fe435dcf5",
   "metadata": {
    "editable": true,
    "slideshow": {
     "slide_type": "fragment"
    },
    "tags": []
   },
   "source": [
    "* Right hand side: Percent change of the ZCB price\n",
    "* Left hand side: Term times yield change in the opposite direction\n",
    "* In the case of ZCB, the term $T$ is the sensitivivity and is called the duration of this ZCB"
   ]
  },
  {
   "cell_type": "markdown",
   "id": "67eefa21-c5c6-4c20-9569-7d6e88427ca1",
   "metadata": {
    "editable": true,
    "slideshow": {
     "slide_type": "slide"
    },
    "tags": []
   },
   "source": [
    "## ZCB Duration Example\n",
    "\n",
    "$$\n",
    "-T\\Delta \\approx \\frac{B(\\Delta) - B(0)}{B(0)}\n",
    "$$\n",
    "* Duration of a ZCB is its term $T$\n",
    "* On a day when the yield drops $0.06\\% = 6\\text{ bps}$ across the entire curve, we have\n",
    "    * 1Y ZCB price up $0.06\\% = 0.06\\% \\times 1$\n",
    "    * 5Y ZCB price up $0.3\\% = 0.06\\% \\times 5$\n",
    "    * 10Y ZCB price up $0.6\\% = 0.06\\% \\times 10$\n",
    "    * 30Y ZCB price up $1.8\\% = 0.06\\% \\times 30$\n",
    "* The longer-term the bond is, the more sensitive it is to the yield change\n",
    "    * This is true for nonzero coupon bonds too, as we will see soon"
   ]
  },
  {
   "cell_type": "markdown",
   "id": "98e5ba2b-e902-4e50-ac0a-e163f248dbc9",
   "metadata": {
    "editable": true,
    "slideshow": {
     "slide_type": "fragment"
    },
    "tags": []
   },
   "source": [
    "* $1\\text{ bp}$ (basis point) is $0.01\\%$, a common unit of measurement in the rates market\n",
    "* Does the yield change by the same amount across the entire curve?\n",
    "    * Yes, more or less, most of the time, as we will see when we get to Principal Component Analysis (PCA)"
   ]
  },
  {
   "cell_type": "markdown",
   "id": "b88dda87-b7bf-4f6f-93de-f3e562eb10f5",
   "metadata": {
    "editable": true,
    "slideshow": {
     "slide_type": "slide"
    },
    "tags": []
   },
   "source": [
    "## Sensitivity of Coupon Bond Price to Yield Change\n",
    "\n",
    "* We repeat the same exercise but for coupon bonds\n",
    "* Imagine, in a small period of time, the yields at all tenors change from $R_j$ to $R_j+\\Delta$ for the same small amount $\\Delta$. The bond price before and after the yield change are respectively \n",
    "\\begin{align*}\n",
    "B(0) &= N e^{-T_NR_N} + \\sum_{j=1}^N c~e^{-T_j R_j} \\\\\n",
    "&= c~e^{-T_1 R_1} + c~e^{-T_2 R_2} + \\cdots + c~e^{-T_N R_N} + N e^{-T_NR_N}\n",
    "\\end{align*}\n",
    "and\n",
    "\\begin{align*}\n",
    "B(\\Delta) &= N e^{-T_N(R_N + \\Delta)} + \\sum_{j=1}^N c~e^{-T_j (R_j + \\Delta)} \\\\\n",
    "&= c~e^{-T_1 (R_1 + \\Delta)} + c~e^{-T_2 (R_2 + \\Delta)} + \\cdots + c~e^{-T_N (R_N + \\Delta)} + N e^{-T_N(R_N + \\Delta)}\n",
    "\\end{align*}\n",
    "* Next we find the first derivative of $B(\\Delta)$ at $\\Delta = 0$"
   ]
  },
  {
   "cell_type": "markdown",
   "id": "71b8ffba-5319-40ae-ad88-4ca65d721010",
   "metadata": {
    "editable": true,
    "slideshow": {
     "slide_type": "slide"
    },
    "tags": []
   },
   "source": [
    "## Sensitivity of Coupon Bond Price to Yield Change (Cont.)\n",
    "\n",
    "\n",
    "\\begin{align*}\n",
    "B(0) &= c~e^{-T_1 R_1} + c~e^{-T_2 R_2} + \\cdots + c~e^{-T_N R_N} + N e^{-T_NR_N}, \\\\\n",
    "B(\\Delta) &= c~e^{-T_1 (R_1 + \\Delta)} + c~e^{-T_2 (R_2 + \\Delta)} + \\cdots + c~e^{-T_N (R_N + \\Delta)} + N e^{-T_N(R_N + \\Delta)}, \n",
    "\\end{align*}\n",
    "* We find the first derivative of $B(\\Delta)$ at $\\Delta = 0$ to be \n",
    "\\begin{align*}\n",
    "B'(0) &= {\\color{red}-\\color{red}T_1}c~e^{-T_1 R_1} {\\color{red}-\\color{red}T_2} c~e^{-T_2 R_2} - \\cdots {\\color{red}-\\color{red}T_N} c~e^{-T_N R_N} {\\color{red}-\\color{red}T_N} N e^{-T_N R_N} \\approx \\frac{B(\\Delta) - B(0)}{\\Delta}\n",
    "\\end{align*}"
   ]
  },
  {
   "cell_type": "markdown",
   "id": "e7537148-bffc-488d-97bc-cc74548b1177",
   "metadata": {
    "editable": true,
    "slideshow": {
     "slide_type": "fragment"
    },
    "tags": []
   },
   "source": [
    "* To obtain the percent change of bond price, multiply by $\\Delta/B(0)$ on both sides:\n",
    "\\begin{align*}\n",
    "{\\color{red}-}\\left(\\frac{{\\color{red}T_1}c~e^{-T_1 R_1} + {\\color{red}T_2} c~e^{-T_2 R_2} + \\cdots + {\\color{red}T_N} c~e^{-T_N R_N} + {\\color{red}T_N} N e^{-T_N R_N}}{B(0)}\\right)\\Delta \\approx \\frac{B(\\Delta) - B(0)}{B(0)}\n",
    "\\end{align*}\n",
    "* The quantity in the parentheses is the duration, denoted by $D$ hereafter, but it can be further simplified"
   ]
  },
  {
   "cell_type": "markdown",
   "id": "b990bb6c-ce61-4bf0-bfa7-3310649a398c",
   "metadata": {
    "editable": true,
    "slideshow": {
     "slide_type": "slide"
    },
    "tags": []
   },
   "source": [
    "## Duration of Coupon Bond\n",
    "\n",
    "\\begin{align*}\n",
    "B(0) = c~e^{-T_1 R_1} + c~e^{-T_1 R_1} + \\cdots + c~e^{-T_N R_N} + N e^{-T_NR_N}\n",
    "\\end{align*}\n",
    "* Yield change $\\Delta$ and percent change of the bond price has the relation\n",
    "\\begin{align*}\n",
    "-D\\Delta \\approx \\frac{B(\\Delta) - B(0)}{B(0)}, \n",
    "\\end{align*}\n",
    "where the duration $D$ is\n",
    "$$\n",
    "D = \\frac{{\\color{red}T_1}c~e^{-T_1 R_1} + {\\color{red}T_2} c~e^{-T_2 R_2} + \\cdots + {\\color{red}T_N} c~e^{-T_N R_N} + {\\color{red}T_N} N e^{-T_N R_N}}{B(0)}\n",
    "$$"
   ]
  },
  {
   "cell_type": "markdown",
   "id": "4b9cbe07-8072-44ec-8c9c-4dff9dd9be7d",
   "metadata": {
    "editable": true,
    "slideshow": {
     "slide_type": "fragment"
    },
    "tags": []
   },
   "source": [
    "$$\n",
    "= T_1 w_1 + T_2 w_2 + \\cdots + T_N w_N + T_N w_N^*, \n",
    "$$\n",
    "where\n",
    "\\begin{align*}\n",
    "w_j = \\frac{c~e^{-T_jR_j}}{B(0)}, \\quad\\forall j=1, 2, \\ldots, N, \\quad\\text{ and }\\quad w_N^* = \\frac{Ne^{-T_NR_N}}{B(0)}, \n",
    "\\end{align*}\n",
    "which satisfy $w_1 + w_2 + \\cdots + w_N + w_N^* = 1$"
   ]
  },
  {
   "cell_type": "markdown",
   "id": "a9ea292b-ef4e-4af2-834e-783e25e30635",
   "metadata": {
    "editable": true,
    "slideshow": {
     "slide_type": "slide"
    },
    "tags": []
   },
   "source": [
    "## Duration of Coupon Bond (Cont.)\n",
    "\n",
    "\\begin{align*}\n",
    "-D\\Delta \\approx \\frac{B(\\Delta) - B(0)}{B(0)}, \n",
    "\\end{align*}\n",
    "* The duration $D = T_1 w_1 + T_2 w_2 + \\cdots + T_N w_N + T_N w_N^*,$ where\n",
    "\\begin{align*}\n",
    "w_j = \\frac{c~e^{-T_jR_j}}{B(0)}, \\quad\\forall j=1, 2, \\ldots, N, \\quad\\text{ and }\\quad w_N^* = \\frac{Ne^{-T_NR_N}}{B(0)}, \n",
    "\\end{align*}\n",
    "which satisfy $w_1 + w_2 + \\cdots + w_N + w_N^* = 1$\n",
    "* Duration is a weighted average of all payment dates (the terms)"
   ]
  },
  {
   "cell_type": "markdown",
   "id": "d01e2169-decc-4c81-b35d-2f4e6f3f4b86",
   "metadata": {
    "editable": true,
    "slideshow": {
     "slide_type": "fragment"
    },
    "tags": []
   },
   "source": [
    "* Recall that fair price of a bond is sum of all cash flows discounted\n",
    "* Weights of duration are percentages of each discounted cash flow in the bond price"
   ]
  },
  {
   "cell_type": "markdown",
   "id": "89ddf320-2b1e-4bd4-b22f-722c0c23cc8f",
   "metadata": {
    "editable": true,
    "slideshow": {
     "slide_type": "fragment"
    },
    "tags": []
   },
   "source": [
    "* In the case of ZCB $(c = 0)$, this formula reduces to $D=T_N$, consistent with previous result"
   ]
  },
  {
   "cell_type": "markdown",
   "id": "c14e3099-c923-40de-bf38-07d375fecf35",
   "metadata": {
    "editable": true,
    "slideshow": {
     "slide_type": "slide"
    },
    "tags": []
   },
   "source": [
    "## Duration of Coupon Bond (Cont..)\n",
    "\n",
    "\\begin{align*}\n",
    "-D\\Delta \\approx \\frac{B(\\Delta) - B(0)}{B(0)}, \n",
    "\\end{align*}\n",
    "* The duration $D = T_1 w_1 + T_2 w_2 + \\cdots + T_N w_N + T_N w_N^*,$ where\n",
    "\\begin{align*}\n",
    "w_j = \\frac{c~e^{-T_jR_j}}{B(0)}, \\quad\\forall j=1, 2, \\ldots, N, \\quad\\text{ and }\\quad w_N^* = \\frac{Ne^{-T_NR_N}}{B(0)}, \n",
    "\\end{align*}\n",
    "which satisfy $w_1 + w_2 + \\cdots + w_N + w_N^* = 1$\n",
    "* Duration is a weighted average of all payment dates (the terms)"
   ]
  },
  {
   "cell_type": "markdown",
   "id": "c0af98f7-a85a-4db6-a549-f3d8671235ac",
   "metadata": {
    "editable": true,
    "slideshow": {
     "slide_type": "fragment"
    },
    "tags": []
   },
   "source": [
    "* Since $w_N^* \\gg w_j,$ the duration is still somewhat close to the bond's term $T_N$"
   ]
  },
  {
   "cell_type": "markdown",
   "id": "d25f5cd7-e2ac-4088-a9da-71e86756426d",
   "metadata": {
    "editable": true,
    "slideshow": {
     "slide_type": "fragment"
    },
    "tags": []
   },
   "source": [
    "* Previous conclusion \"the longer the bond is, the more sensitive it is to yield change\" is still valid"
   ]
  },
  {
   "cell_type": "markdown",
   "id": "b7aefc62-d495-423e-aa2b-211dcf391a41",
   "metadata": {
    "editable": true,
    "slideshow": {
     "slide_type": "fragment"
    },
    "tags": []
   },
   "source": [
    "* Since $T_1 < T_2 < \\cdots < T_N$, we know $D$ being a weighted average means $D \\le T_N$\n",
    "    * Coupons makes the duration of a bond lower\n",
    "    * The higher the coupon rate is, the lower the duration ($w_j$'s larger)"
   ]
  },
  {
   "cell_type": "markdown",
   "id": "b7aa49ad-4594-46e1-abb5-b5b3d8758e97",
   "metadata": {
    "editable": true,
    "slideshow": {
     "slide_type": "slide"
    },
    "tags": []
   },
   "source": [
    "## Duration of Coupon Bond: Example\n",
    "\n",
    "* Example from previous set's Bond Pricing: Exercise I: \n",
    "\\begin{align*}\n",
    "B &= c~e^{-T_1 R_1} + c~e^{-T_2 R_2} + \\cdots + c~e^{-T_N R_N} + N e^{-T_NR_N}\\\\\\\\\n",
    "\\$102.78 &= 2.5 e^{-0.5\\times 0.0385} + 2.5 e^{-1\\times 0.0365} + 2.5 e^{-1.5\\times 0.0358} + 102.5 e^{-2\\times 0.0351}\n",
    "\\end{align*}\n",
    "* Duration is\n",
    "\\begin{align*}\n",
    "D &= \\left(T_1 c~e^{-T_1 R_1} + T_2 c~e^{-T_2 R_2} + \\cdots + T_N c~e^{-T_N R_N} + T_N N e^{-T_NR_N}\\right)/B\\\\\\\\\n",
    " &= \\left(0.5\\times 2.5 e^{-0.5\\times 0.0385} + 1\\times 2.5 e^{-1\\times 0.0365} + 1.5\\times 2.5 e^{-1.5\\times 0.0358} + 2\\times 102.5 e^{-2\\times 0.0351}\\right)/102.78 = 1.9293 \\text{ (years)}\n",
    "\\end{align*}\n",
    "* Somewhat close to its term 2y"
   ]
  },
  {
   "cell_type": "markdown",
   "id": "a9a45757-9e45-414d-829d-2f8e5b85ec04",
   "metadata": {
    "editable": true,
    "jp-MarkdownHeadingCollapsed": true,
    "slideshow": {
     "slide_type": "fragment"
    },
    "tags": []
   },
   "source": [
    "* The weights are \n",
    "\\begin{align*}\n",
    "w_1 &= 2.5 e^{-0.5\\times 0.0385}/102.78 = 0.02386,\\\\\n",
    "w_2 &= 2.5 e^{-1\\times 0.0365}/102.78 = 0.02345,\\\\\n",
    "w_3 &= 2.5 e^{-1.5\\times 0.0358}/102.78 = 0.02305,\\\\\n",
    "w_4 &= 2.5 e^{-2\\times 0.0351}/102.78 = 0.02267,\\\\\n",
    "w_4^* &= 100 e^{-2\\times 0.0351}/102.78 = 0.90699\n",
    "\\end{align*}"
   ]
  },
  {
   "cell_type": "markdown",
   "id": "8895b093-a67e-4306-9333-6d92bb654ce3",
   "metadata": {
    "editable": true,
    "jp-MarkdownHeadingCollapsed": true,
    "slideshow": {
     "slide_type": "fragment"
    },
    "tags": []
   },
   "source": [
    "* If, today, the treasury yield is down 2 bps across the entire yield curve, the price of this bond will be up approximately $0.02\\%\\times 1.9293 = 0.039\\%$\n",
    "* If, today, the treasury yield is down 2 bps only for all tenors $\\le$ 2y, the bond price will still be up $0.039\\%$. (Why?)"
   ]
  },
  {
   "cell_type": "markdown",
   "id": "5e2b48a4-43cb-4182-a4a6-325138e12f92",
   "metadata": {
    "editable": true,
    "jp-MarkdownHeadingCollapsed": true,
    "slideshow": {
     "slide_type": "slide"
    },
    "tags": []
   },
   "source": [
    "## Duration of Coupon Bond: Exercise\n",
    "\n",
    "* Example from previous set's Bond Pricing: Exercise II: \n",
    "\\begin{align*}\n",
    "B &= c~e^{-T_1 R_1} + c~e^{-T_2 R_2} + \\cdots + c~e^{-T_N R_N} + N e^{-T_NR_N}\\\\\\\\\n",
    "\\$100.56 &= 2 e^{-0.5\\times 0.0385} + 2 e^{-1\\times 0.0365} + 102 e^{-1.5\\times 0.0358}\n",
    "\\end{align*}\n",
    "* What's its duration?\n",
    "* If, today, the treasury yield is up 5 bps across the entire yield curve, what's the percent change of the bond price? "
   ]
  }
 ],
 "metadata": {
  "kernelspec": {
   "display_name": "Python 3 (ipykernel)",
   "language": "python",
   "name": "python3"
  },
  "language_info": {
   "codemirror_mode": {
    "name": "ipython",
    "version": 3
   },
   "file_extension": ".py",
   "mimetype": "text/x-python",
   "name": "python",
   "nbconvert_exporter": "python",
   "pygments_lexer": "ipython3",
   "version": "3.12.4"
  }
 },
 "nbformat": 4,
 "nbformat_minor": 5
}

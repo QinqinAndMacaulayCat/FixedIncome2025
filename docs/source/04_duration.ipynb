{
 "cells": [
  {
   "cell_type": "markdown",
   "id": "cffd957e-9dfb-483f-bda4-4341272916ff",
   "metadata": {
    "editable": true,
    "slideshow": {
     "slide_type": "slide"
    },
    "tags": []
   },
   "source": [
    "# 4. Duration and Convexity"
   ]
  },
  {
   "cell_type": "code",
   "execution_count": null,
   "id": "f592c1d9-e4f8-48a8-92f0-132d37637503",
   "metadata": {
    "editable": true,
    "slideshow": {
     "slide_type": ""
    },
    "tags": []
   },
   "outputs": [],
   "source": []
  }
 ],
 "metadata": {
  "kernelspec": {
   "display_name": "Python 3 (ipykernel)",
   "language": "python",
   "name": "python3"
  },
  "language_info": {
   "codemirror_mode": {
    "name": "ipython",
    "version": 3
   },
   "file_extension": ".py",
   "mimetype": "text/x-python",
   "name": "python",
   "nbconvert_exporter": "python",
   "pygments_lexer": "ipython3",
   "version": "3.12.4"
  }
 },
 "nbformat": 4,
 "nbformat_minor": 5
}

{
 "cells": [
  {
   "cell_type": "markdown",
   "id": "cffd957e-9dfb-483f-bda4-4341272916ff",
   "metadata": {
    "editable": true,
    "slideshow": {
     "slide_type": "slide"
    },
    "tags": []
   },
   "source": [
    "# 4. Duration and Convexity"
   ]
  },
  {
   "cell_type": "markdown",
   "id": "ccbd6c0d-6bfe-4e28-a3ef-6233ba2a82ae",
   "metadata": {
    "editable": true,
    "slideshow": {
     "slide_type": "slide"
    },
    "tags": []
   },
   "source": [
    "## Overview \n",
    "\n",
    "* Duration is an important concept that helps us to compute, quickly and approximately, how much the price of a bond should change in response to the yield change\n",
    "    * Expressed in years, but it’s not the same as time to maturity\n",
    "    * A sensitivity measure\n",
    "        * High duration: bond price sensitive to interest rate changes\n",
    "        * Low duration: insensitive, bond price stable\n",
    "* Duration also summarizes a portfolio of bonds to one number, making it easy to hedge"
   ]
  },
  {
   "cell_type": "markdown",
   "id": "8dfd6e8d-b948-4c32-85b8-9d17eedaa7f8",
   "metadata": {
    "editable": true,
    "slideshow": {
     "slide_type": "slide"
    },
    "tags": []
   },
   "source": [
    "## Bond Pricing Review"
   ]
  },
  {
   "cell_type": "markdown",
   "id": "545023b8-07bc-41cb-9f3b-a91adfee084d",
   "metadata": {
    "editable": true,
    "slideshow": {
     "slide_type": "slide"
    },
    "tags": []
   },
   "source": [
    "## Term SOFR"
   ]
  }
 ],
 "metadata": {
  "kernelspec": {
   "display_name": "Python 3 (ipykernel)",
   "language": "python",
   "name": "python3"
  },
  "language_info": {
   "codemirror_mode": {
    "name": "ipython",
    "version": 3
   },
   "file_extension": ".py",
   "mimetype": "text/x-python",
   "name": "python",
   "nbconvert_exporter": "python",
   "pygments_lexer": "ipython3",
   "version": "3.12.4"
  }
 },
 "nbformat": 4,
 "nbformat_minor": 5
}
